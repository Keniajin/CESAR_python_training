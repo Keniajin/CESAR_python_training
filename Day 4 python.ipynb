{
 "cells": [
  {
   "cell_type": "markdown",
   "metadata": {},
   "source": [
    "# Day 3: Data Wrangling with pandas"
   ]
  },
  {
   "cell_type": "code",
   "execution_count": 1,
   "metadata": {},
   "outputs": [
    {
     "data": {
      "text/html": [
       "<style>\n",
       ".output {\n",
       "    align-items: center;\n",
       "}\n",
       "</style>"
      ],
      "text/plain": [
       "<IPython.core.display.HTML object>"
      ]
     },
     "execution_count": 1,
     "metadata": {},
     "output_type": "execute_result"
    }
   ],
   "source": [
    "from IPython.display import display, HTML\n",
    "\n",
    "CSS = \"\"\"\n",
    ".output {\n",
    "    align-items: center;\n",
    "}\n",
    "\"\"\"\n",
    "\n",
    "HTML('<style>{}</style>'.format(CSS))"
   ]
  },
  {
   "cell_type": "markdown",
   "metadata": {},
   "source": [
    "## What can Pandas do in data analytics?\n",
    "\n",
    "Pandas has so many uses that it might make sense to list the things it can't do instead of what it can do. \n",
    "\n",
    "This tool is essentially your data’s home. Through pandas, you get acquainted with your data by cleaning, transforming, merging, .... and analyzing it. \n",
    "\n",
    "For example, say you want to explore a dataset stored in a CSV on your computer. Pandas will extract the data from that CSV into a DataFrame — a table, basically — then let you do things like:\n",
    "\n",
    "![Python-Pandas-Features](images/Python-Pandas-Features.jpg)\n",
    "\n",
    "\n",
    "- Calculate statistics and answer questions about the data, like\n",
    "\n",
    "    - What's the average, median, max, or min of each column? \n",
    "    - Does column A correlate with column B?\n",
    "    - What does the distribution of data in column C look like?\n",
    "\n",
    "- Clean the data by doing things like removing missing values and filtering rows or columns by some criteria\n",
    "\n",
    "\n",
    "- Visualize the data with help from Matplotlib. Plot bars, lines, histograms, bubbles, and more. \n",
    "\n",
    "\n",
    "- Store the cleaned, transformed data back into a CSV, other file or database\n",
    "\n",
    "\n",
    "Before we jump into the modeling or the complex visualizations we need to have a good understanding of the nature of datasets using pandas as our key package.\n"
   ]
  },
  {
   "cell_type": "markdown",
   "metadata": {},
   "source": [
    "## Core components of pandas: Series and DataFrames\n",
    "\n",
    "The primary two components of pandas are the `Series` and `DataFrame`. \n",
    "\n",
    "A `Series` is essentially a column, and a `DataFrame` is a multi-dimensional table made up of a collection of Series. \n",
    "\n",
    "![series-and-dataframe](images/series-and-dataframe.width-1200.png)\n",
    "\n",
    "DataFrames and Series are quite similar in that many operations that you can do with one you can do with the other, such as filling in null values and calculating the mean.\n",
    "\n",
    "You'll see how these components work when we start working with data below. "
   ]
  },
  {
   "cell_type": "code",
   "execution_count": 2,
   "metadata": {},
   "outputs": [],
   "source": [
    "import pandas as pd\n",
    "import numpy as np"
   ]
  },
  {
   "cell_type": "markdown",
   "metadata": {},
   "source": [
    "## Tidy Data - A foundation for wrangling with pandas\n",
    "In a tidy data set each variable is saved in its own column and each observation is saved in a row.\n",
    "\n",
    "![Tidy data](images/tidy_data.png)"
   ]
  },
  {
   "cell_type": "markdown",
   "metadata": {},
   "source": [
    "## Creating data frames\n",
    "Our aim is to create a data frame with 3 __columns__ and 3 __rows__\n",
    "\n",
    "![Dataframe1](images/df_1.png)\n",
    "\n",
    "Below is the syntax to create the above data frame columnwise."
   ]
  },
  {
   "cell_type": "code",
   "execution_count": 3,
   "metadata": {},
   "outputs": [
    {
     "data": {
      "text/html": [
       "<div>\n",
       "<style scoped>\n",
       "    .dataframe tbody tr th:only-of-type {\n",
       "        vertical-align: middle;\n",
       "    }\n",
       "\n",
       "    .dataframe tbody tr th {\n",
       "        vertical-align: top;\n",
       "    }\n",
       "\n",
       "    .dataframe thead th {\n",
       "        text-align: right;\n",
       "    }\n",
       "</style>\n",
       "<table border=\"1\" class=\"dataframe\">\n",
       "  <thead>\n",
       "    <tr style=\"text-align: right;\">\n",
       "      <th></th>\n",
       "      <th>a</th>\n",
       "      <th>b</th>\n",
       "      <th>c</th>\n",
       "    </tr>\n",
       "  </thead>\n",
       "  <tbody>\n",
       "    <tr>\n",
       "      <th>1</th>\n",
       "      <td>4</td>\n",
       "      <td>7</td>\n",
       "      <td>10</td>\n",
       "    </tr>\n",
       "    <tr>\n",
       "      <th>2</th>\n",
       "      <td>5</td>\n",
       "      <td>8</td>\n",
       "      <td>11</td>\n",
       "    </tr>\n",
       "    <tr>\n",
       "      <th>3</th>\n",
       "      <td>6</td>\n",
       "      <td>9</td>\n",
       "      <td>12</td>\n",
       "    </tr>\n",
       "  </tbody>\n",
       "</table>\n",
       "</div>"
      ],
      "text/plain": [
       "   a  b   c\n",
       "1  4  7  10\n",
       "2  5  8  11\n",
       "3  6  9  12"
      ]
     },
     "execution_count": 3,
     "metadata": {},
     "output_type": "execute_result"
    }
   ],
   "source": [
    "df = pd.DataFrame({\"a\":[4,5,6],\n",
    "                 \"b\":[7,8,9],\n",
    "                 \"c\": [10,11,12]},\n",
    "                 index=[1,2,3])\n",
    "df"
   ]
  },
  {
   "cell_type": "markdown",
   "metadata": {},
   "source": [
    "## Exercise 3.1\n",
    "Find the follwing for the variables a, b and c\n",
    "+ Mean for a hint you can use df.mean() this will give all the means\n",
    "+ Median for b you can use df.median() this will give all the means\n",
    "+ Cusum for c you can use df.cumsum() this will give all the means"
   ]
  },
  {
   "cell_type": "code",
   "execution_count": 4,
   "metadata": {},
   "outputs": [
    {
     "data": {
      "text/plain": [
       "a     5.0\n",
       "b     8.0\n",
       "c    11.0\n",
       "dtype: float64"
      ]
     },
     "execution_count": 4,
     "metadata": {},
     "output_type": "execute_result"
    }
   ],
   "source": [
    "df.mean()"
   ]
  },
  {
   "cell_type": "code",
   "execution_count": 5,
   "metadata": {},
   "outputs": [
    {
     "data": {
      "text/plain": [
       "5.0"
      ]
     },
     "execution_count": 5,
     "metadata": {},
     "output_type": "execute_result"
    }
   ],
   "source": [
    "df[\"a\"].mean()"
   ]
  },
  {
   "cell_type": "code",
   "execution_count": 6,
   "metadata": {},
   "outputs": [
    {
     "data": {
      "text/plain": [
       "8.0"
      ]
     },
     "execution_count": 6,
     "metadata": {},
     "output_type": "execute_result"
    }
   ],
   "source": [
    "df.median()\n",
    "df[\"b\"].median()"
   ]
  },
  {
   "cell_type": "code",
   "execution_count": 7,
   "metadata": {},
   "outputs": [
    {
     "data": {
      "text/plain": [
       "1    10\n",
       "2    21\n",
       "3    33\n",
       "Name: c, dtype: int64"
      ]
     },
     "execution_count": 7,
     "metadata": {},
     "output_type": "execute_result"
    }
   ],
   "source": [
    "df.cumsum()\n",
    "df[\"c\"].cumsum()"
   ]
  },
  {
   "cell_type": "markdown",
   "metadata": {},
   "source": [
    "## How can I get help??\n",
    "We can use the help function or the question mark at the end of the function"
   ]
  },
  {
   "cell_type": "code",
   "execution_count": 8,
   "metadata": {},
   "outputs": [],
   "source": [
    "#help(pd.DataFrame)"
   ]
  },
  {
   "cell_type": "code",
   "execution_count": 9,
   "metadata": {},
   "outputs": [],
   "source": [
    "import statistics\n",
    "statistics.mean?"
   ]
  },
  {
   "cell_type": "markdown",
   "metadata": {},
   "source": [
    "Below is the syntax to create the above data frame rowwise."
   ]
  },
  {
   "cell_type": "code",
   "execution_count": 10,
   "metadata": {},
   "outputs": [
    {
     "data": {
      "text/html": [
       "<div>\n",
       "<style scoped>\n",
       "    .dataframe tbody tr th:only-of-type {\n",
       "        vertical-align: middle;\n",
       "    }\n",
       "\n",
       "    .dataframe tbody tr th {\n",
       "        vertical-align: top;\n",
       "    }\n",
       "\n",
       "    .dataframe thead th {\n",
       "        text-align: right;\n",
       "    }\n",
       "</style>\n",
       "<table border=\"1\" class=\"dataframe\">\n",
       "  <thead>\n",
       "    <tr style=\"text-align: right;\">\n",
       "      <th></th>\n",
       "      <th>a</th>\n",
       "      <th>b</th>\n",
       "      <th>c</th>\n",
       "    </tr>\n",
       "  </thead>\n",
       "  <tbody>\n",
       "    <tr>\n",
       "      <th>1</th>\n",
       "      <td>4</td>\n",
       "      <td>7</td>\n",
       "      <td>10</td>\n",
       "    </tr>\n",
       "    <tr>\n",
       "      <th>2</th>\n",
       "      <td>5</td>\n",
       "      <td>8</td>\n",
       "      <td>11</td>\n",
       "    </tr>\n",
       "    <tr>\n",
       "      <th>3</th>\n",
       "      <td>6</td>\n",
       "      <td>9</td>\n",
       "      <td>12</td>\n",
       "    </tr>\n",
       "  </tbody>\n",
       "</table>\n",
       "</div>"
      ],
      "text/plain": [
       "   a  b   c\n",
       "1  4  7  10\n",
       "2  5  8  11\n",
       "3  6  9  12"
      ]
     },
     "execution_count": 10,
     "metadata": {},
     "output_type": "execute_result"
    }
   ],
   "source": [
    "df = pd.DataFrame(\n",
    "    [[4, 7, 10],\n",
    "    [5, 8, 11],\n",
    "    [6, 9, 12]],\n",
    "    index=[1, 2, 3],\n",
    "    columns=['a', 'b', 'c'])\n",
    "df"
   ]
  },
  {
   "cell_type": "markdown",
   "metadata": {},
   "source": [
    "## Create DataFrame with a MultiIndex\n",
    "A multi index is a file with mutiple row identifiers\n",
    "\n",
    "![MultiIndex](images/df_2.png)"
   ]
  },
  {
   "cell_type": "code",
   "execution_count": 11,
   "metadata": {},
   "outputs": [
    {
     "data": {
      "text/html": [
       "<div>\n",
       "<style scoped>\n",
       "    .dataframe tbody tr th:only-of-type {\n",
       "        vertical-align: middle;\n",
       "    }\n",
       "\n",
       "    .dataframe tbody tr th {\n",
       "        vertical-align: top;\n",
       "    }\n",
       "\n",
       "    .dataframe thead th {\n",
       "        text-align: right;\n",
       "    }\n",
       "</style>\n",
       "<table border=\"1\" class=\"dataframe\">\n",
       "  <thead>\n",
       "    <tr style=\"text-align: right;\">\n",
       "      <th></th>\n",
       "      <th></th>\n",
       "      <th>a</th>\n",
       "      <th>b</th>\n",
       "      <th>c</th>\n",
       "    </tr>\n",
       "    <tr>\n",
       "      <th>n</th>\n",
       "      <th>v</th>\n",
       "      <th></th>\n",
       "      <th></th>\n",
       "      <th></th>\n",
       "    </tr>\n",
       "  </thead>\n",
       "  <tbody>\n",
       "    <tr>\n",
       "      <th rowspan=\"2\" valign=\"top\">d</th>\n",
       "      <th>1</th>\n",
       "      <td>4</td>\n",
       "      <td>7</td>\n",
       "      <td>10</td>\n",
       "    </tr>\n",
       "    <tr>\n",
       "      <th>2</th>\n",
       "      <td>5</td>\n",
       "      <td>8</td>\n",
       "      <td>11</td>\n",
       "    </tr>\n",
       "    <tr>\n",
       "      <th>e</th>\n",
       "      <th>2</th>\n",
       "      <td>6</td>\n",
       "      <td>9</td>\n",
       "      <td>12</td>\n",
       "    </tr>\n",
       "  </tbody>\n",
       "</table>\n",
       "</div>"
      ],
      "text/plain": [
       "     a  b   c\n",
       "n v          \n",
       "d 1  4  7  10\n",
       "  2  5  8  11\n",
       "e 2  6  9  12"
      ]
     },
     "execution_count": 11,
     "metadata": {},
     "output_type": "execute_result"
    }
   ],
   "source": [
    "df_multi = pd.DataFrame(\n",
    "    {\"a\" : [4 ,5, 6],\n",
    "     \"b\" : [7, 8, 9], \n",
    "     \"c\" : [10, 11, 12]}, \n",
    "    index = pd.MultiIndex.from_tuples(\n",
    "        [('d',1),('d',2),('e',2)],\n",
    "        names=['n','v']))\n",
    "df_multi"
   ]
  },
  {
   "cell_type": "markdown",
   "metadata": {},
   "source": [
    "## Reshaping Data – Change the layout of a data set\n",
    "This involves changing the data layout either from a wide or long format. To gather columns into rows (long format) and spread rows into columns _pd.melt_ and _df.pivot_ is used respectively. \n",
    "\n",
    "![Reshaping of DataFrames](images/df_melt_pivot.png)"
   ]
  },
  {
   "cell_type": "code",
   "execution_count": 12,
   "metadata": {},
   "outputs": [
    {
     "data": {
      "text/html": [
       "<div>\n",
       "<style scoped>\n",
       "    .dataframe tbody tr th:only-of-type {\n",
       "        vertical-align: middle;\n",
       "    }\n",
       "\n",
       "    .dataframe tbody tr th {\n",
       "        vertical-align: top;\n",
       "    }\n",
       "\n",
       "    .dataframe thead th {\n",
       "        text-align: right;\n",
       "    }\n",
       "</style>\n",
       "<table border=\"1\" class=\"dataframe\">\n",
       "  <thead>\n",
       "    <tr style=\"text-align: right;\">\n",
       "      <th></th>\n",
       "      <th>a</th>\n",
       "      <th>b</th>\n",
       "      <th>c</th>\n",
       "    </tr>\n",
       "  </thead>\n",
       "  <tbody>\n",
       "    <tr>\n",
       "      <th>1</th>\n",
       "      <td>4</td>\n",
       "      <td>7</td>\n",
       "      <td>10</td>\n",
       "    </tr>\n",
       "    <tr>\n",
       "      <th>2</th>\n",
       "      <td>5</td>\n",
       "      <td>8</td>\n",
       "      <td>11</td>\n",
       "    </tr>\n",
       "    <tr>\n",
       "      <th>3</th>\n",
       "      <td>6</td>\n",
       "      <td>9</td>\n",
       "      <td>12</td>\n",
       "    </tr>\n",
       "  </tbody>\n",
       "</table>\n",
       "</div>"
      ],
      "text/plain": [
       "   a  b   c\n",
       "1  4  7  10\n",
       "2  5  8  11\n",
       "3  6  9  12"
      ]
     },
     "execution_count": 12,
     "metadata": {},
     "output_type": "execute_result"
    }
   ],
   "source": [
    "df"
   ]
  },
  {
   "cell_type": "code",
   "execution_count": 13,
   "metadata": {},
   "outputs": [
    {
     "data": {
      "text/html": [
       "<div>\n",
       "<style scoped>\n",
       "    .dataframe tbody tr th:only-of-type {\n",
       "        vertical-align: middle;\n",
       "    }\n",
       "\n",
       "    .dataframe tbody tr th {\n",
       "        vertical-align: top;\n",
       "    }\n",
       "\n",
       "    .dataframe thead th {\n",
       "        text-align: right;\n",
       "    }\n",
       "</style>\n",
       "<table border=\"1\" class=\"dataframe\">\n",
       "  <thead>\n",
       "    <tr style=\"text-align: right;\">\n",
       "      <th></th>\n",
       "      <th>variable</th>\n",
       "      <th>value</th>\n",
       "    </tr>\n",
       "  </thead>\n",
       "  <tbody>\n",
       "    <tr>\n",
       "      <th>0</th>\n",
       "      <td>a</td>\n",
       "      <td>4</td>\n",
       "    </tr>\n",
       "    <tr>\n",
       "      <th>1</th>\n",
       "      <td>a</td>\n",
       "      <td>5</td>\n",
       "    </tr>\n",
       "    <tr>\n",
       "      <th>2</th>\n",
       "      <td>a</td>\n",
       "      <td>6</td>\n",
       "    </tr>\n",
       "    <tr>\n",
       "      <th>3</th>\n",
       "      <td>b</td>\n",
       "      <td>7</td>\n",
       "    </tr>\n",
       "    <tr>\n",
       "      <th>4</th>\n",
       "      <td>b</td>\n",
       "      <td>8</td>\n",
       "    </tr>\n",
       "    <tr>\n",
       "      <th>5</th>\n",
       "      <td>b</td>\n",
       "      <td>9</td>\n",
       "    </tr>\n",
       "    <tr>\n",
       "      <th>6</th>\n",
       "      <td>c</td>\n",
       "      <td>10</td>\n",
       "    </tr>\n",
       "    <tr>\n",
       "      <th>7</th>\n",
       "      <td>c</td>\n",
       "      <td>11</td>\n",
       "    </tr>\n",
       "    <tr>\n",
       "      <th>8</th>\n",
       "      <td>c</td>\n",
       "      <td>12</td>\n",
       "    </tr>\n",
       "  </tbody>\n",
       "</table>\n",
       "</div>"
      ],
      "text/plain": [
       "  variable  value\n",
       "0        a      4\n",
       "1        a      5\n",
       "2        a      6\n",
       "3        b      7\n",
       "4        b      8\n",
       "5        b      9\n",
       "6        c     10\n",
       "7        c     11\n",
       "8        c     12"
      ]
     },
     "execution_count": 13,
     "metadata": {},
     "output_type": "execute_result"
    }
   ],
   "source": [
    "#Gather columns into rows using the  df Dataframe we created\n",
    "df_long = pd.melt(df)\n",
    "df_long"
   ]
  },
  {
   "cell_type": "code",
   "execution_count": 14,
   "metadata": {},
   "outputs": [
    {
     "data": {
      "text/html": [
       "<div>\n",
       "<style scoped>\n",
       "    .dataframe tbody tr th:only-of-type {\n",
       "        vertical-align: middle;\n",
       "    }\n",
       "\n",
       "    .dataframe tbody tr th {\n",
       "        vertical-align: top;\n",
       "    }\n",
       "\n",
       "    .dataframe thead th {\n",
       "        text-align: right;\n",
       "    }\n",
       "</style>\n",
       "<table border=\"1\" class=\"dataframe\">\n",
       "  <thead>\n",
       "    <tr style=\"text-align: right;\">\n",
       "      <th></th>\n",
       "      <th>A</th>\n",
       "      <th>B</th>\n",
       "      <th>C</th>\n",
       "    </tr>\n",
       "  </thead>\n",
       "  <tbody>\n",
       "    <tr>\n",
       "      <th>0</th>\n",
       "      <td>a</td>\n",
       "      <td>1</td>\n",
       "      <td>2</td>\n",
       "    </tr>\n",
       "    <tr>\n",
       "      <th>1</th>\n",
       "      <td>b</td>\n",
       "      <td>3</td>\n",
       "      <td>4</td>\n",
       "    </tr>\n",
       "    <tr>\n",
       "      <th>2</th>\n",
       "      <td>c</td>\n",
       "      <td>5</td>\n",
       "      <td>6</td>\n",
       "    </tr>\n",
       "  </tbody>\n",
       "</table>\n",
       "</div>"
      ],
      "text/plain": [
       "   A  B  C\n",
       "0  a  1  2\n",
       "1  b  3  4\n",
       "2  c  5  6"
      ]
     },
     "execution_count": 14,
     "metadata": {},
     "output_type": "execute_result"
    }
   ],
   "source": [
    "df1 = pd.DataFrame({'A': {0: 'a', 1: 'b', 2: 'c'},\n",
    "                    'B': {0: 1, 1: 3, 2: 5},\n",
    "                    'C': {0: 2, 1: 4, 2: 6}})\n",
    "df1"
   ]
  },
  {
   "cell_type": "code",
   "execution_count": 15,
   "metadata": {},
   "outputs": [
    {
     "data": {
      "text/html": [
       "<div>\n",
       "<style scoped>\n",
       "    .dataframe tbody tr th:only-of-type {\n",
       "        vertical-align: middle;\n",
       "    }\n",
       "\n",
       "    .dataframe tbody tr th {\n",
       "        vertical-align: top;\n",
       "    }\n",
       "\n",
       "    .dataframe thead th {\n",
       "        text-align: right;\n",
       "    }\n",
       "</style>\n",
       "<table border=\"1\" class=\"dataframe\">\n",
       "  <thead>\n",
       "    <tr style=\"text-align: right;\">\n",
       "      <th></th>\n",
       "      <th>A</th>\n",
       "      <th>variable</th>\n",
       "      <th>value</th>\n",
       "    </tr>\n",
       "  </thead>\n",
       "  <tbody>\n",
       "    <tr>\n",
       "      <th>0</th>\n",
       "      <td>a</td>\n",
       "      <td>B</td>\n",
       "      <td>1</td>\n",
       "    </tr>\n",
       "    <tr>\n",
       "      <th>1</th>\n",
       "      <td>b</td>\n",
       "      <td>B</td>\n",
       "      <td>3</td>\n",
       "    </tr>\n",
       "    <tr>\n",
       "      <th>2</th>\n",
       "      <td>c</td>\n",
       "      <td>B</td>\n",
       "      <td>5</td>\n",
       "    </tr>\n",
       "    <tr>\n",
       "      <th>3</th>\n",
       "      <td>a</td>\n",
       "      <td>C</td>\n",
       "      <td>2</td>\n",
       "    </tr>\n",
       "    <tr>\n",
       "      <th>4</th>\n",
       "      <td>b</td>\n",
       "      <td>C</td>\n",
       "      <td>4</td>\n",
       "    </tr>\n",
       "    <tr>\n",
       "      <th>5</th>\n",
       "      <td>c</td>\n",
       "      <td>C</td>\n",
       "      <td>6</td>\n",
       "    </tr>\n",
       "  </tbody>\n",
       "</table>\n",
       "</div>"
      ],
      "text/plain": [
       "   A variable  value\n",
       "0  a        B      1\n",
       "1  b        B      3\n",
       "2  c        B      5\n",
       "3  a        C      2\n",
       "4  b        C      4\n",
       "5  c        C      6"
      ]
     },
     "execution_count": 15,
     "metadata": {},
     "output_type": "execute_result"
    }
   ],
   "source": [
    "pd.melt(df1, id_vars=['A'], value_vars=['B', \"C\"])"
   ]
  },
  {
   "cell_type": "markdown",
   "metadata": {},
   "source": [
    "## Exercise 3.2\n",
    "Given the following data on four patients CD4s for 3 visits at a local health facility.\n",
    "+ **Simon**: 78, 98, 157, 570\n",
    "+ **Charity**: 567, 324, 679, 721\n",
    "+ **Mary**: 100, 320, 256, 432\n",
    "+ **Joel**: 900, 856, 567, 432\n",
    "\n",
    "+ a) Make a dataframe called **dfcd4_wide** in wide format with the variables name (index), CD4_visit1, ....,CD4_visit4\n",
    "\n",
    "+ b) Make another dataframe called **dfcd4_long**\n",
    "\n",
    "+ c) Repeat a) and b) using another slightly different approach \n",
    "\n",
    "+ d) Use the help(pd.pivot) to assist you on how to change data from long back to wide format and do it for this example above"
   ]
  },
  {
   "cell_type": "code",
   "execution_count": 16,
   "metadata": {},
   "outputs": [
    {
     "data": {
      "text/html": [
       "<div>\n",
       "<style scoped>\n",
       "    .dataframe tbody tr th:only-of-type {\n",
       "        vertical-align: middle;\n",
       "    }\n",
       "\n",
       "    .dataframe tbody tr th {\n",
       "        vertical-align: top;\n",
       "    }\n",
       "\n",
       "    .dataframe thead th {\n",
       "        text-align: right;\n",
       "    }\n",
       "</style>\n",
       "<table border=\"1\" class=\"dataframe\">\n",
       "  <thead>\n",
       "    <tr style=\"text-align: right;\">\n",
       "      <th></th>\n",
       "      <th>CD4_visit1</th>\n",
       "      <th>CD4_visit2</th>\n",
       "      <th>CD4_visit3</th>\n",
       "      <th>CD4_visit4</th>\n",
       "    </tr>\n",
       "  </thead>\n",
       "  <tbody>\n",
       "    <tr>\n",
       "      <th>Simon</th>\n",
       "      <td>78</td>\n",
       "      <td>98</td>\n",
       "      <td>157</td>\n",
       "      <td>570</td>\n",
       "    </tr>\n",
       "    <tr>\n",
       "      <th>Charity</th>\n",
       "      <td>567</td>\n",
       "      <td>324</td>\n",
       "      <td>679</td>\n",
       "      <td>721</td>\n",
       "    </tr>\n",
       "    <tr>\n",
       "      <th>Mary</th>\n",
       "      <td>100</td>\n",
       "      <td>320</td>\n",
       "      <td>256</td>\n",
       "      <td>432</td>\n",
       "    </tr>\n",
       "    <tr>\n",
       "      <th>Joel</th>\n",
       "      <td>900</td>\n",
       "      <td>856</td>\n",
       "      <td>567</td>\n",
       "      <td>432</td>\n",
       "    </tr>\n",
       "  </tbody>\n",
       "</table>\n",
       "</div>"
      ],
      "text/plain": [
       "         CD4_visit1  CD4_visit2  CD4_visit3  CD4_visit4\n",
       "Simon            78          98         157         570\n",
       "Charity         567         324         679         721\n",
       "Mary            100         320         256         432\n",
       "Joel            900         856         567         432"
      ]
     },
     "execution_count": 16,
     "metadata": {},
     "output_type": "execute_result"
    }
   ],
   "source": [
    "dfcd4_wide = pd.DataFrame({\"CD4_visit1\":[78,567,100,900],\n",
    "                 \"CD4_visit2\":[98,324, 320, 856],\n",
    "                 \"CD4_visit3\": [157, 679, 256, 567],\n",
    "                \"CD4_visit4\":[570, 721, 432, 432]},\n",
    "                 index=[\"Simon\", \"Charity\", \"Mary\", \"Joel\"])\n",
    "dfcd4_wide"
   ]
  },
  {
   "cell_type": "code",
   "execution_count": 17,
   "metadata": {},
   "outputs": [
    {
     "data": {
      "text/html": [
       "<div>\n",
       "<style scoped>\n",
       "    .dataframe tbody tr th:only-of-type {\n",
       "        vertical-align: middle;\n",
       "    }\n",
       "\n",
       "    .dataframe tbody tr th {\n",
       "        vertical-align: top;\n",
       "    }\n",
       "\n",
       "    .dataframe thead th {\n",
       "        text-align: right;\n",
       "    }\n",
       "</style>\n",
       "<table border=\"1\" class=\"dataframe\">\n",
       "  <thead>\n",
       "    <tr style=\"text-align: right;\">\n",
       "      <th></th>\n",
       "      <th>name</th>\n",
       "      <th>CD4_visit1</th>\n",
       "      <th>CD4_visit2</th>\n",
       "      <th>CD4_visit3</th>\n",
       "      <th>CD4_visit4</th>\n",
       "    </tr>\n",
       "  </thead>\n",
       "  <tbody>\n",
       "    <tr>\n",
       "      <th>0</th>\n",
       "      <td>Simon</td>\n",
       "      <td>78</td>\n",
       "      <td>98</td>\n",
       "      <td>157</td>\n",
       "      <td>570</td>\n",
       "    </tr>\n",
       "    <tr>\n",
       "      <th>1</th>\n",
       "      <td>Charity</td>\n",
       "      <td>567</td>\n",
       "      <td>324</td>\n",
       "      <td>679</td>\n",
       "      <td>721</td>\n",
       "    </tr>\n",
       "    <tr>\n",
       "      <th>2</th>\n",
       "      <td>Mary</td>\n",
       "      <td>100</td>\n",
       "      <td>320</td>\n",
       "      <td>256</td>\n",
       "      <td>432</td>\n",
       "    </tr>\n",
       "    <tr>\n",
       "      <th>3</th>\n",
       "      <td>Joel</td>\n",
       "      <td>900</td>\n",
       "      <td>856</td>\n",
       "      <td>567</td>\n",
       "      <td>432</td>\n",
       "    </tr>\n",
       "  </tbody>\n",
       "</table>\n",
       "</div>"
      ],
      "text/plain": [
       "      name  CD4_visit1  CD4_visit2  CD4_visit3  CD4_visit4\n",
       "0    Simon          78          98         157         570\n",
       "1  Charity         567         324         679         721\n",
       "2     Mary         100         320         256         432\n",
       "3     Joel         900         856         567         432"
      ]
     },
     "execution_count": 17,
     "metadata": {},
     "output_type": "execute_result"
    }
   ],
   "source": [
    "dfcd4_w2 = pd.DataFrame({'name': {0: 'Simon', 1: 'Charity', 2: 'Mary', 3:'Joel'},\n",
    "                    \"CD4_visit1\":{0: 78,1: 567,2: 100,3: 900},\n",
    "                 \"CD4_visit2\":{0: 98,1: 324, 2: 320, 3: 856},\n",
    "                 \"CD4_visit3\": {0: 157,1: 679, 2: 256, 3: 567},\n",
    "                \"CD4_visit4\":{0: 570, 1: 721, 2: 432, 3: 432}})\n",
    "dfcd4_w2"
   ]
  },
  {
   "cell_type": "code",
   "execution_count": 18,
   "metadata": {},
   "outputs": [
    {
     "data": {
      "text/html": [
       "<div>\n",
       "<style scoped>\n",
       "    .dataframe tbody tr th:only-of-type {\n",
       "        vertical-align: middle;\n",
       "    }\n",
       "\n",
       "    .dataframe tbody tr th {\n",
       "        vertical-align: top;\n",
       "    }\n",
       "\n",
       "    .dataframe thead th {\n",
       "        text-align: right;\n",
       "    }\n",
       "</style>\n",
       "<table border=\"1\" class=\"dataframe\">\n",
       "  <thead>\n",
       "    <tr style=\"text-align: right;\">\n",
       "      <th></th>\n",
       "      <th>name</th>\n",
       "      <th>visit</th>\n",
       "      <th>CD4_count</th>\n",
       "    </tr>\n",
       "  </thead>\n",
       "  <tbody>\n",
       "    <tr>\n",
       "      <th>0</th>\n",
       "      <td>Simon</td>\n",
       "      <td>CD4_visit1</td>\n",
       "      <td>78</td>\n",
       "    </tr>\n",
       "    <tr>\n",
       "      <th>1</th>\n",
       "      <td>Charity</td>\n",
       "      <td>CD4_visit1</td>\n",
       "      <td>567</td>\n",
       "    </tr>\n",
       "    <tr>\n",
       "      <th>2</th>\n",
       "      <td>Mary</td>\n",
       "      <td>CD4_visit1</td>\n",
       "      <td>100</td>\n",
       "    </tr>\n",
       "    <tr>\n",
       "      <th>3</th>\n",
       "      <td>Joel</td>\n",
       "      <td>CD4_visit1</td>\n",
       "      <td>900</td>\n",
       "    </tr>\n",
       "    <tr>\n",
       "      <th>4</th>\n",
       "      <td>Simon</td>\n",
       "      <td>CD4_visit2</td>\n",
       "      <td>98</td>\n",
       "    </tr>\n",
       "    <tr>\n",
       "      <th>5</th>\n",
       "      <td>Charity</td>\n",
       "      <td>CD4_visit2</td>\n",
       "      <td>324</td>\n",
       "    </tr>\n",
       "    <tr>\n",
       "      <th>6</th>\n",
       "      <td>Mary</td>\n",
       "      <td>CD4_visit2</td>\n",
       "      <td>320</td>\n",
       "    </tr>\n",
       "    <tr>\n",
       "      <th>7</th>\n",
       "      <td>Joel</td>\n",
       "      <td>CD4_visit2</td>\n",
       "      <td>856</td>\n",
       "    </tr>\n",
       "    <tr>\n",
       "      <th>8</th>\n",
       "      <td>Simon</td>\n",
       "      <td>CD4_visit3</td>\n",
       "      <td>157</td>\n",
       "    </tr>\n",
       "    <tr>\n",
       "      <th>9</th>\n",
       "      <td>Charity</td>\n",
       "      <td>CD4_visit3</td>\n",
       "      <td>679</td>\n",
       "    </tr>\n",
       "    <tr>\n",
       "      <th>10</th>\n",
       "      <td>Mary</td>\n",
       "      <td>CD4_visit3</td>\n",
       "      <td>256</td>\n",
       "    </tr>\n",
       "    <tr>\n",
       "      <th>11</th>\n",
       "      <td>Joel</td>\n",
       "      <td>CD4_visit3</td>\n",
       "      <td>567</td>\n",
       "    </tr>\n",
       "    <tr>\n",
       "      <th>12</th>\n",
       "      <td>Simon</td>\n",
       "      <td>CD4_visit4</td>\n",
       "      <td>570</td>\n",
       "    </tr>\n",
       "    <tr>\n",
       "      <th>13</th>\n",
       "      <td>Charity</td>\n",
       "      <td>CD4_visit4</td>\n",
       "      <td>721</td>\n",
       "    </tr>\n",
       "    <tr>\n",
       "      <th>14</th>\n",
       "      <td>Mary</td>\n",
       "      <td>CD4_visit4</td>\n",
       "      <td>432</td>\n",
       "    </tr>\n",
       "    <tr>\n",
       "      <th>15</th>\n",
       "      <td>Joel</td>\n",
       "      <td>CD4_visit4</td>\n",
       "      <td>432</td>\n",
       "    </tr>\n",
       "  </tbody>\n",
       "</table>\n",
       "</div>"
      ],
      "text/plain": [
       "       name       visit  CD4_count\n",
       "0     Simon  CD4_visit1         78\n",
       "1   Charity  CD4_visit1        567\n",
       "2      Mary  CD4_visit1        100\n",
       "3      Joel  CD4_visit1        900\n",
       "4     Simon  CD4_visit2         98\n",
       "5   Charity  CD4_visit2        324\n",
       "6      Mary  CD4_visit2        320\n",
       "7      Joel  CD4_visit2        856\n",
       "8     Simon  CD4_visit3        157\n",
       "9   Charity  CD4_visit3        679\n",
       "10     Mary  CD4_visit3        256\n",
       "11     Joel  CD4_visit3        567\n",
       "12    Simon  CD4_visit4        570\n",
       "13  Charity  CD4_visit4        721\n",
       "14     Mary  CD4_visit4        432\n",
       "15     Joel  CD4_visit4        432"
      ]
     },
     "execution_count": 18,
     "metadata": {},
     "output_type": "execute_result"
    }
   ],
   "source": [
    "dfcd4_long=pd.melt(dfcd4_w2, id_vars=\"name\", var_name=\"visit\", value_name=\"CD4_count\")\n",
    "dfcd4_long"
   ]
  },
  {
   "cell_type": "code",
   "execution_count": 19,
   "metadata": {},
   "outputs": [
    {
     "data": {
      "text/html": [
       "<div>\n",
       "<style scoped>\n",
       "    .dataframe tbody tr th:only-of-type {\n",
       "        vertical-align: middle;\n",
       "    }\n",
       "\n",
       "    .dataframe tbody tr th {\n",
       "        vertical-align: top;\n",
       "    }\n",
       "\n",
       "    .dataframe thead th {\n",
       "        text-align: right;\n",
       "    }\n",
       "</style>\n",
       "<table border=\"1\" class=\"dataframe\">\n",
       "  <thead>\n",
       "    <tr style=\"text-align: right;\">\n",
       "      <th>visit</th>\n",
       "      <th>CD4_visit1</th>\n",
       "      <th>CD4_visit2</th>\n",
       "      <th>CD4_visit3</th>\n",
       "      <th>CD4_visit4</th>\n",
       "    </tr>\n",
       "    <tr>\n",
       "      <th>name</th>\n",
       "      <th></th>\n",
       "      <th></th>\n",
       "      <th></th>\n",
       "      <th></th>\n",
       "    </tr>\n",
       "  </thead>\n",
       "  <tbody>\n",
       "    <tr>\n",
       "      <th>Charity</th>\n",
       "      <td>567</td>\n",
       "      <td>324</td>\n",
       "      <td>679</td>\n",
       "      <td>721</td>\n",
       "    </tr>\n",
       "    <tr>\n",
       "      <th>Joel</th>\n",
       "      <td>900</td>\n",
       "      <td>856</td>\n",
       "      <td>567</td>\n",
       "      <td>432</td>\n",
       "    </tr>\n",
       "    <tr>\n",
       "      <th>Mary</th>\n",
       "      <td>100</td>\n",
       "      <td>320</td>\n",
       "      <td>256</td>\n",
       "      <td>432</td>\n",
       "    </tr>\n",
       "    <tr>\n",
       "      <th>Simon</th>\n",
       "      <td>78</td>\n",
       "      <td>98</td>\n",
       "      <td>157</td>\n",
       "      <td>570</td>\n",
       "    </tr>\n",
       "  </tbody>\n",
       "</table>\n",
       "</div>"
      ],
      "text/plain": [
       "visit    CD4_visit1  CD4_visit2  CD4_visit3  CD4_visit4\n",
       "name                                                   \n",
       "Charity         567         324         679         721\n",
       "Joel            900         856         567         432\n",
       "Mary            100         320         256         432\n",
       "Simon            78          98         157         570"
      ]
     },
     "execution_count": 19,
     "metadata": {},
     "output_type": "execute_result"
    }
   ],
   "source": [
    "df_wide_cd4=dfcd4_long.pivot(index=\"name\", columns=\"visit\", values=\"CD4_count\")\n",
    "df_wide_cd4"
   ]
  },
  {
   "cell_type": "markdown",
   "metadata": {},
   "source": [
    "# Day 4: Python training CESAR\n",
    "\n",
    "## Handling dates in pandas\n",
    "\n",
    "We can work with dates in python using the pandas functions mainly **to_datetime** and **Timestamp** below is the help function output for to_datetime in module pandas.core.tools.datetimes:\n",
    "\n",
    "+ to_datetime(arg, errors='raise', dayfirst=False, yearfirst=False, utc=None, format=None, exact=True, unit=None, infer_datetime_format=False, origin='unix', cache=True)\n",
    "\n",
    "This function Converts argument to datetime.\n",
    "\n",
    "    arg : int, float, str, datetime, list, tuple, 1-d array, Series DataFrame/dict-like\n",
    "    \n",
    "    unit : str, default 'ns'\n",
    "        The unit of the arg (D,s,ms,us,ns) denote the unit, which is an\n",
    "        integer or float number. This will be based off the origin.\n",
    "        Example, with unit='ms' and origin='unix' (the default), this\n",
    "        would calculate the number of milliseconds to the unix epoch start.\n",
    " \n",
    " Assembling a datetime from multiple columns of a DataFrame. The keys can be\n",
    "    common abbreviations like ['year', 'month', 'day', 'minute', 'second',\n",
    "    'ms', 'us', 'ns']) or plurals of the same"
   ]
  },
  {
   "cell_type": "code",
   "execution_count": 20,
   "metadata": {},
   "outputs": [],
   "source": [
    "import pandas as pd\n",
    "import numpy as np"
   ]
  },
  {
   "cell_type": "code",
   "execution_count": 21,
   "metadata": {},
   "outputs": [
    {
     "data": {
      "text/plain": [
       "37"
      ]
     },
     "execution_count": 21,
     "metadata": {},
     "output_type": "execute_result"
    }
   ],
   "source": [
    "#Let's start with calculating your age today , modify this example\n",
    "(pd.to_datetime('today').year-pd.to_datetime('1983-11-05').year)"
   ]
  },
  {
   "cell_type": "code",
   "execution_count": 22,
   "metadata": {},
   "outputs": [
    {
     "data": {
      "text/html": [
       "<div>\n",
       "<style scoped>\n",
       "    .dataframe tbody tr th:only-of-type {\n",
       "        vertical-align: middle;\n",
       "    }\n",
       "\n",
       "    .dataframe tbody tr th {\n",
       "        vertical-align: top;\n",
       "    }\n",
       "\n",
       "    .dataframe thead th {\n",
       "        text-align: right;\n",
       "    }\n",
       "</style>\n",
       "<table border=\"1\" class=\"dataframe\">\n",
       "  <thead>\n",
       "    <tr style=\"text-align: right;\">\n",
       "      <th></th>\n",
       "      <th>year</th>\n",
       "      <th>month</th>\n",
       "      <th>day</th>\n",
       "      <th>dob</th>\n",
       "    </tr>\n",
       "  </thead>\n",
       "  <tbody>\n",
       "    <tr>\n",
       "      <th>0</th>\n",
       "      <td>2015</td>\n",
       "      <td>2</td>\n",
       "      <td>4</td>\n",
       "      <td>2015-02-04</td>\n",
       "    </tr>\n",
       "    <tr>\n",
       "      <th>1</th>\n",
       "      <td>2016</td>\n",
       "      <td>3</td>\n",
       "      <td>5</td>\n",
       "      <td>2016-03-05</td>\n",
       "    </tr>\n",
       "  </tbody>\n",
       "</table>\n",
       "</div>"
      ],
      "text/plain": [
       "   year  month  day        dob\n",
       "0  2015      2    4 2015-02-04\n",
       "1  2016      3    5 2016-03-05"
      ]
     },
     "execution_count": 22,
     "metadata": {},
     "output_type": "execute_result"
    }
   ],
   "source": [
    "df = pd.DataFrame({'year': [2015, 2016],\n",
    "                       'month': [2, 3],\n",
    "                       'day': [4, 5]})\n",
    "df\n",
    "df[\"dob\"]=pd.to_datetime(df, unit=\"Y\")\n",
    "df"
   ]
  },
  {
   "cell_type": "code",
   "execution_count": 24,
   "metadata": {},
   "outputs": [
    {
     "data": {
      "text/plain": [
       "Timestamp('2017-03-22 15:16:45')"
      ]
     },
     "execution_count": 24,
     "metadata": {},
     "output_type": "execute_result"
    }
   ],
   "source": [
    "#df = pd.DataFrame({'year': [2015, 2016],\n",
    "                      # 'month': [2, 3],\n",
    "                      # 'day': [4, 5]})\n",
    "#dob=pd.to_datetime(df, unit=\"Y\")\n",
    "#pd.to_datetime([1, 2, 3], unit='D',\n",
    "now = pd.Timestamp('now')\n",
    "#age=(now-dob)\n",
    "#age\n",
    "#age1=(now-dob)/365.25\n",
    "#age1\n",
    "\n",
    "df['age2'] = (now - df['dob']).astype('<m8[Y]')    # 3\n",
    "df\n",
    "#age2=(now-dob).astype(\"<m8[Y]\")\n",
    "#age2\n",
    "\n",
    "df['dob'] = pd.to_datetime(df['dob'], format='%m%d%y')    # 1\n",
    "\n",
    "#Using a unix epoch time\n",
    "49*365.25*24*60*60\n",
    "pd.to_datetime(1490195805, unit='s')\n",
    "#pd.to_datetime(1490195805433502912, unit='ns')\n",
    "\n",
    "#pd.to_datetime([1, 2, 3], unit='D',origin=pd.Timestamp('1960-01-01'))"
   ]
  },
  {
   "cell_type": "markdown",
   "metadata": {},
   "source": [
    "## Guided Tutorial on data manipulations 4.1\n",
    "\n",
    "Given the following data on four patients CD4s for 3 visits at a local health facility.\n",
    "\n",
    "+ **Simon**: 78, 98, 157, 570\n",
    "+ **Charity**: 567, 324, 679, 721\n",
    "+ **Mary**: 100, 320, 256, 432\n",
    "+ **Joel**: 900, 856, 567, 432\n",
    "\n",
    "Using our dataframes **dfcd4_wide** and **dfcd4_long** answer the following\n",
    "\n",
    "+ a) Perform a few descriptive statistics on these data in wide format also in long format (hint use groupby(by=\"name\")\n",
    "+ b) Order the data (dscd4_long) in ascending and descending order\n",
    "+ c) Locate some variables and data values of interest on your dataset\n",
    "+ d) Save the data as an .csv and export, then import the files\n",
    "+ e) Given the foloowing dates of birth for the participants, include these on the data frame and calculate their ages today"
   ]
  },
  {
   "cell_type": "code",
   "execution_count": null,
   "metadata": {},
   "outputs": [],
   "source": [
    "#help(pd.melt)\n",
    "#Summary statistics for variables using visit (axis=0)\n",
    "df_wide_cd4.mean(axis=0)\n",
    "df_wide_cd4.min(axis=0)\n",
    "df_wide_cd4.max(axis=0)\n",
    "df_wide_cd4.median(axis=0)\n",
    "df_wide_cd4.sum(axis=0)"
   ]
  },
  {
   "cell_type": "code",
   "execution_count": null,
   "metadata": {},
   "outputs": [],
   "source": [
    "#Summary statistics for variables using name (axis=1)\n",
    "df_wide_cd4.mean(axis=1)\n",
    "df_wide_cd4.min(axis=1)\n",
    "df_wide_cd4.max(axis=1)\n",
    "df_wide_cd4.median(axis=1)\n",
    "df_wide_cd4.sum(axis=1)"
   ]
  },
  {
   "cell_type": "code",
   "execution_count": null,
   "metadata": {},
   "outputs": [],
   "source": [
    "### Recoding variables: String to text for binary and \n",
    "#df['col1'] = np.where(df['col1'] == \"Yes\", 1, 0)"
   ]
  },
  {
   "cell_type": "markdown",
   "metadata": {},
   "source": [
    "### Ordering/Sorting DataFrame\n",
    "This involves ordering rows by values of a column (low to high or high to low)."
   ]
  },
  {
   "cell_type": "code",
   "execution_count": null,
   "metadata": {},
   "outputs": [],
   "source": [
    "#Order rows by values of a column (low to high).\n",
    "dfcd4_long.sort_values('CD4_count')"
   ]
  },
  {
   "cell_type": "code",
   "execution_count": null,
   "metadata": {},
   "outputs": [],
   "source": [
    "#Order rows by values of a column (high to low).\n",
    "dfcd4_long.sort_values('CD4_count',ascending=False) "
   ]
  },
  {
   "cell_type": "markdown",
   "metadata": {},
   "source": [
    "### Rename the columns of a DataFrame\n",
    "Here we rename the column _variable_ to _var_ in our _'df_wide'_ DataFrame"
   ]
  },
  {
   "cell_type": "code",
   "execution_count": null,
   "metadata": {},
   "outputs": [],
   "source": [
    "dfcd4_long.rename(columns = {'CD4_count':'cd4_count'})"
   ]
  },
  {
   "cell_type": "markdown",
   "metadata": {},
   "source": [
    "### Sort the index of a DataFrame"
   ]
  },
  {
   "cell_type": "code",
   "execution_count": null,
   "metadata": {},
   "outputs": [],
   "source": [
    "dfcd4_long.sort_index() # Sort the data based on the index numbers of that data\n",
    "dfcd4_long.sort_values(\"name\") # You can specify which variable you want to sort default is ascending order\n",
    "dfcd4_long.sort_values(\"name\", ascending =False) #Doing it via the descending order"
   ]
  },
  {
   "cell_type": "markdown",
   "metadata": {},
   "source": [
    "### Moving index to columns\n",
    "Reset index of DataFrame to row numbers, moving index to columns."
   ]
  },
  {
   "cell_type": "code",
   "execution_count": null,
   "metadata": {},
   "outputs": [],
   "source": [
    "dfcd4_long2=dfcd4_long.reset_index()"
   ]
  },
  {
   "cell_type": "markdown",
   "metadata": {},
   "source": [
    "### Deleting or dropping columns from a DataFrame\n",
    "Here we drop the variable _value_ from our _'dfcd4_long'_ DataFrame."
   ]
  },
  {
   "cell_type": "code",
   "execution_count": null,
   "metadata": {},
   "outputs": [],
   "source": [
    "dfcd4_long2.drop(columns=['index'])\n",
    "#dfcd4_long2.rename(columns = {'CD4_count':'cd4_count'})"
   ]
  },
  {
   "cell_type": "markdown",
   "metadata": {},
   "source": [
    "## Subset Observations\n",
    "### Subseting Rows\n",
    "This involves selecting part of the observations in a DataFrame. This can be done either rowwise or columnwise\n",
    "\n",
    "![Subset DataFrames](images/df_subset.png)\n",
    "\n",
    "For example to select only rows that have a _value_ greater than 9 from our _'df_wide'_ DataFrame"
   ]
  },
  {
   "cell_type": "code",
   "execution_count": null,
   "metadata": {},
   "outputs": [],
   "source": [
    "## select only rows that have a CD4_count greater than 350\n",
    "dfcd4_long2[dfcd4_long2.CD4_count > 350]"
   ]
  },
  {
   "cell_type": "markdown",
   "metadata": {},
   "source": [
    "From the above command we use the _>_  Logic in Python (and pandas). Below are some of the most common Logic in Python\n",
    "\n",
    "![Subset DataFrames](images/df_logic.png)"
   ]
  },
  {
   "cell_type": "code",
   "execution_count": null,
   "metadata": {},
   "outputs": [],
   "source": [
    "## Select first n rows.\n",
    "## Here we select the first 3 rows from the df_wide dataset\n",
    "dfcd4_wide.head(3)"
   ]
  },
  {
   "cell_type": "code",
   "execution_count": null,
   "metadata": {},
   "outputs": [],
   "source": [
    "## Select last n rows.\n",
    "## Here we select the last 3 rows from the df_wide dataset\n",
    "dfcd4_wide.tail(3)"
   ]
  },
  {
   "cell_type": "code",
   "execution_count": null,
   "metadata": {},
   "outputs": [],
   "source": [
    "## Select rows by position.\n",
    "## Here we indicate position 2 to 4 to select row 2 to 3 \n",
    "## note 4 is excliuded\n",
    "dfcd4_wide.iloc[2]"
   ]
  },
  {
   "cell_type": "code",
   "execution_count": null,
   "metadata": {},
   "outputs": [],
   "source": [
    "##Select and order top n entries.\n",
    "## here we select the 3 largest _value_ and order them ascending\n",
    "dfcd4_long.nlargest(3, 'CD4_count')"
   ]
  },
  {
   "cell_type": "code",
   "execution_count": null,
   "metadata": {},
   "outputs": [],
   "source": [
    "#Select and order bottom n entries.\n",
    "## here we select the 3 smallest _value_ and order them ascending\n",
    "dfcd4_long.nsmallest(3, 'CD4_count')"
   ]
  },
  {
   "cell_type": "code",
   "execution_count": null,
   "metadata": {},
   "outputs": [],
   "source": [
    "#help(df_wide.nsmallest)"
   ]
  },
  {
   "cell_type": "markdown",
   "metadata": {},
   "source": [
    "#### Randomly subsetting the DataFrame rows"
   ]
  },
  {
   "cell_type": "code",
   "execution_count": null,
   "metadata": {},
   "outputs": [],
   "source": [
    "#Randomly select fraction of rows. \n",
    "dfcd4_long.sample(frac=0.5)"
   ]
  },
  {
   "cell_type": "code",
   "execution_count": null,
   "metadata": {},
   "outputs": [],
   "source": [
    "#Randomly select 3 rows.\n",
    "dfcd4_long.sample(n=3)"
   ]
  },
  {
   "cell_type": "markdown",
   "metadata": {},
   "source": [
    "### Subseting Columns\n",
    "Select multiple columns with specific names or columns that meet a certain criteria using Regex - https://www.w3schools.com/python/python_regex.asp\n",
    "\n",
    "![Regex](images/df_regex.png)"
   ]
  },
  {
   "cell_type": "code",
   "execution_count": null,
   "metadata": {},
   "outputs": [],
   "source": [
    "## Selecting two variables \n",
    "dfcd4_long[['name','visit']]"
   ]
  },
  {
   "cell_type": "code",
   "execution_count": null,
   "metadata": {},
   "outputs": [],
   "source": [
    "## selecting  a single variable/column with a specific name\n",
    "dfcd4_long['CD4_count']  \n",
    "#dfcd4_long.CD4_count  "
   ]
  },
  {
   "cell_type": "code",
   "execution_count": null,
   "metadata": {},
   "outputs": [],
   "source": [
    "#Select columns whose name matches regular expression regex.\n",
    "dfcd4_wide.filter(regex=\"n\")\n",
    "#Now try pulling out only those variables with the CD4 values\n",
    "#dfcd4_wide.filter(regex=\"CD4\")\n",
    "dfcd4_wide.filter(regex=\"visit\")"
   ]
  },
  {
   "cell_type": "code",
   "execution_count": null,
   "metadata": {},
   "outputs": [],
   "source": [
    "#Select all columns between a and b (inclusive)\n",
    "dfcd4_wide.loc[:,'CD4_visit1':'CD4_visit3']\n"
   ]
  },
  {
   "cell_type": "code",
   "execution_count": null,
   "metadata": {},
   "outputs": [],
   "source": [
    "#Select columns in positions 1 and 3 (first column is 0).\n",
    "dfcd4_wide.iloc[:,[0,2]]"
   ]
  },
  {
   "cell_type": "code",
   "execution_count": null,
   "metadata": {},
   "outputs": [],
   "source": [
    "#Select rows meeting logical condition, and only the specific columns .\n",
    "dfcd4_long.loc[dfcd4_long['CD4_count'] > 500, ['name','CD4_count']]"
   ]
  },
  {
   "cell_type": "code",
   "execution_count": null,
   "metadata": {},
   "outputs": [],
   "source": [
    "## saving the DataFrame to CSV\n",
    "dfcd4_wide.to_csv('df_wide.csv',index=True)\n",
    "dfcd4_long.to_csv('df_long.csv',index=True)"
   ]
  },
  {
   "cell_type": "code",
   "execution_count": null,
   "metadata": {},
   "outputs": [],
   "source": [
    "df_wide=pd.read_csv('df_wide.csv')\n",
    "df_wide"
   ]
  },
  {
   "cell_type": "code",
   "execution_count": null,
   "metadata": {},
   "outputs": [],
   "source": [
    "#Try out for excel\n",
    "dfcd4_wide.to_excel('df_widex.xlsm',index=True)\n",
    "dfcd4_long.to_excel('df_longx.xlsm',index=True)"
   ]
  },
  {
   "cell_type": "markdown",
   "metadata": {},
   "source": [
    "## Solved Excercise \n",
    "Create and save two DataFrame's with 10 (id=1,2,3,4,5,6,7,8,9,10) individuals, __'df_personal'__ with  _'id, weight,gender,age,province,income,insurance'_ and the __'df_medical'__ DataFrame with _'id,sbp,dbp, saltadd'_"
   ]
  },
  {
   "cell_type": "code",
   "execution_count": null,
   "metadata": {},
   "outputs": [],
   "source": [
    "df_personal =  pd.DataFrame({\"id\":[1,2,3,4,5,6,7,8,9,10],\n",
    "                 \"age\":[65,50,55,45,25,45,35,70,20,30],\n",
    "                 \"gender\": ['male', 'female', 'male', 'female', 'female', 'male', 'female', 'male', 'male', 'female'],\n",
    "                  \"weight\":[80,65,60,80,95,86,97,58,59,110],\n",
    "                \"province\":['FS','GP','KZN','LP','MP','NC','NW','WC','GP','FS'],\n",
    "                \"income\":[65000,50000,55000,45000,25000,45000,35000,70000,20000,30000],\n",
    "                \"insurance\":[1,0,1,0,1,0,0,1,1,1]})\n",
    "\n",
    "df_personal.set_index('id')"
   ]
  },
  {
   "cell_type": "code",
   "execution_count": null,
   "metadata": {},
   "outputs": [],
   "source": [
    "df_medical =  pd.DataFrame({\"id\":[1,2,3,4,5,6,7,8,9,10,11],\n",
    "                 \"sbp\":[110, 85, 167, None, 180, 112, 110,None , 171, 133,None],\n",
    "                 \"dbp\": [80, 55, 112, None, 120, 78, 70, None, 102, 75,88],\n",
    "                  \"saltadd\":['yes', 'no', 'yes', 'yes', 'no', 'no', 'no', 'yes', 'yes', 'yes','no']})\n",
    "\n",
    "df_medical.set_index('id')"
   ]
  },
  {
   "cell_type": "code",
   "execution_count": null,
   "metadata": {},
   "outputs": [],
   "source": [
    "## saving the DataFrame to CSV\n",
    "df_medical.to_csv('df_medical.csv',index=True)\n",
    "df_personal.to_csv('df_personal.csv',index=True)"
   ]
  },
  {
   "cell_type": "markdown",
   "metadata": {},
   "source": [
    "__How can you read the CSV files?__"
   ]
  },
  {
   "cell_type": "markdown",
   "metadata": {},
   "source": [
    "## Handling Missing Data\n",
    "_dropna_ function drop rows with any column having NA/null data and _fillna()_ replaces all NA/null data with value."
   ]
  },
  {
   "cell_type": "code",
   "execution_count": null,
   "metadata": {},
   "outputs": [],
   "source": [
    "df_medical.dropna()"
   ]
  },
  {
   "cell_type": "code",
   "execution_count": null,
   "metadata": {},
   "outputs": [],
   "source": [
    "#replaces all NA/null data with value -> here we replace the sbp and dbp zero for exercise case only\n",
    "df_medical.fillna(0)"
   ]
  },
  {
   "cell_type": "code",
   "execution_count": null,
   "metadata": {},
   "outputs": [],
   "source": [
    "## replacing specific columns with sepcific values \n",
    "#here we replace the sbp and dbp with the average of 120/80 respectively\n",
    "df_medical.fillna(value={'sbp': 120, 'dbp': 80})"
   ]
  },
  {
   "cell_type": "markdown",
   "metadata": {},
   "source": [
    "## Make New Columns\n",
    "This is adding new columns to the data. We compute and add a column _'sd_bp_ratio'_ which is $sdp/dbp$\n",
    "\n",
    "![Adding new column](images/df_new_column.png)"
   ]
  },
  {
   "cell_type": "code",
   "execution_count": null,
   "metadata": {},
   "outputs": [],
   "source": [
    "##Compute and append one or more new columns.\n",
    "df_medical.assign(sd_bp_ratio=lambda df_medical: df_medical.sbp/df_medical.dbp)"
   ]
  },
  {
   "cell_type": "code",
   "execution_count": null,
   "metadata": {},
   "outputs": [],
   "source": [
    "#Add single column.\n",
    "df_medical['sd_bp_ratio'] = df_medical.sbp/df_medical.dbp\n",
    "df_medical"
   ]
  },
  {
   "cell_type": "markdown",
   "metadata": {},
   "source": [
    "## Combine/Merge Data Sets\n",
    "This involves joining mutiple DataFrames into a single DataFrame. In this example, we are going to merge the personal and the medical data.\n",
    "![Merge](images/df_merge.png)"
   ]
  },
  {
   "cell_type": "markdown",
   "metadata": {},
   "source": [
    "### Join matching rows from _'df_personal'_ to _'df_medical'_ .\n",
    "You specify the two DataFrames to be joined and also __IMPORTANTLY__ specify the _on_ column. This is the column (sometimes should have the same name ) that uniquely identifies the rows in both DataFrames"
   ]
  },
  {
   "cell_type": "code",
   "execution_count": null,
   "metadata": {},
   "outputs": [],
   "source": [
    "## overview personal DF\n",
    "print(df_personal.head(5))"
   ]
  },
  {
   "cell_type": "code",
   "execution_count": null,
   "metadata": {},
   "outputs": [],
   "source": [
    "### overview medical DF\n",
    "print(df_medical.head(11))"
   ]
  },
  {
   "cell_type": "markdown",
   "metadata": {},
   "source": [
    "This merges all the data on the left DataFrame to the right data frame. \n",
    "\n",
    "![Left join src:sqltutorial](images/left_join.png)"
   ]
  },
  {
   "cell_type": "code",
   "execution_count": null,
   "metadata": {},
   "outputs": [],
   "source": [
    "pd.merge(df_personal, df_medical,how='left', on='id')"
   ]
  },
  {
   "cell_type": "markdown",
   "metadata": {},
   "source": [
    "### Join matching rows from rows from  _'df_medical'_  to _'df_personal'_\n",
    "Notice that _id_ 11 will be available on the merge below"
   ]
  },
  {
   "cell_type": "code",
   "execution_count": null,
   "metadata": {},
   "outputs": [],
   "source": [
    "pd.merge(df_personal, df_medical,how='right', on='id')"
   ]
  },
  {
   "cell_type": "markdown",
   "metadata": {},
   "source": [
    "### Join data. Retain only rows in both sets.\n",
    "\n",
    "![Inner join src:sqltutorial.org](images/inner_join.png)"
   ]
  },
  {
   "cell_type": "code",
   "execution_count": null,
   "metadata": {},
   "outputs": [],
   "source": [
    "pd.merge(df_personal, df_medical,how='inner', on='id')"
   ]
  },
  {
   "cell_type": "markdown",
   "metadata": {},
   "source": [
    "### Join data. Retain all values, all rows.\n",
    "![Full join src:sqltutorial.org](images/full_join.png)"
   ]
  },
  {
   "cell_type": "code",
   "execution_count": null,
   "metadata": {},
   "outputs": [],
   "source": [
    "pd.merge(df_personal, df_medical,how='outer', on='id')"
   ]
  },
  {
   "cell_type": "markdown",
   "metadata": {},
   "source": [
    "### Filtering Joins\n",
    "All rows in _'df_personal'_ that have a matching _id_ in '_df_medical'_. Only display _'df_personal'_ with medical data"
   ]
  },
  {
   "cell_type": "code",
   "execution_count": null,
   "metadata": {},
   "outputs": [],
   "source": [
    "df_personal[df_personal.id.isin(df_medical.id)]"
   ]
  },
  {
   "cell_type": "markdown",
   "metadata": {},
   "source": [
    "Here we try to see if there is any individual (_id_) with personal data but miss in medical data. We get a NULL DataFrame since all the individuals (_id_) have medical data available"
   ]
  },
  {
   "cell_type": "code",
   "execution_count": null,
   "metadata": {},
   "outputs": [],
   "source": [
    "df_personal[~df_personal.id.isin(df_medical.id)]"
   ]
  },
  {
   "cell_type": "markdown",
   "metadata": {},
   "source": [
    "__Excercise: Try filtering the individuals with medical data but have missing personal data__\n"
   ]
  }
 ],
 "metadata": {
  "kernelspec": {
   "display_name": "Python 3",
   "language": "python",
   "name": "python3"
  },
  "language_info": {
   "codemirror_mode": {
    "name": "ipython",
    "version": 3
   },
   "file_extension": ".py",
   "mimetype": "text/x-python",
   "name": "python",
   "nbconvert_exporter": "python",
   "pygments_lexer": "ipython3",
   "version": "3.7.3"
  }
 },
 "nbformat": 4,
 "nbformat_minor": 2
}
