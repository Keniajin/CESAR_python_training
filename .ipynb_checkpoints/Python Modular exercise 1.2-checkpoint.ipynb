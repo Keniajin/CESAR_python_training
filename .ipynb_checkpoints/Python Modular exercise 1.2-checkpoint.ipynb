{
 "cells": [
  {
   "cell_type": "markdown",
   "metadata": {},
   "source": [
    "## Create the relevant data Series from these data below\n",
    "- c1=temperature = 32, 26, 37, 20, 24, 51, 21\n",
    "- c2=gender = \"M\", \"M\", \"F\", \"\", \"F\", \"M\", \"F\"\n",
    "- c3=hourly_rate= 400, 310, 288, None, 460, 550, 343\n",
    "- c4=name 'Simon', 'Robert', 'Lily', 'David', 'Susan', 'Zuma', 'Joyce'"
   ]
  },
  {
   "cell_type": "code",
   "execution_count": 158,
   "metadata": {},
   "outputs": [],
   "source": [
    "import pandas as pd\n",
    "import numpy as np\n",
    "c1 = np.array([32, 26, 37, 20, 24, 51, 21])\n",
    "sc1 = pd.Series(c1)\n",
    "c2 = np.array([\"M\", \"M\", \"F\", \"\", \"F\", \"M\", \"F\"])\n",
    "sc2 = pd.Series(c2)\n",
    "c3 = np.array([400, 310, 288, None, 460, 550, 343])\n",
    "sc3 = pd.Series(c3)\n",
    "sc3 = pd.to_numeric(sc3)\n",
    "c4 = np.array(['Simon', 'Robert', 'Lily', 'David', 'Susan', 'Zuma', 'Joyce'])\n",
    "sc4 = pd.Series(c4)"
   ]
  },
  {
   "cell_type": "markdown",
   "metadata": {},
   "source": [
    "1. What types of data are are c1 to c4?"
   ]
  },
  {
   "cell_type": "code",
   "execution_count": 159,
   "metadata": {},
   "outputs": [
    {
     "data": {
      "text/plain": [
       "0    32\n",
       "1    26\n",
       "2    37\n",
       "3    20\n",
       "4    24\n",
       "5    51\n",
       "6    21\n",
       "dtype: int32"
      ]
     },
     "execution_count": 159,
     "metadata": {},
     "output_type": "execute_result"
    }
   ],
   "source": [
    "sc1"
   ]
  },
  {
   "cell_type": "code",
   "execution_count": 160,
   "metadata": {},
   "outputs": [
    {
     "data": {
      "text/plain": [
       "0    400.0\n",
       "1    310.0\n",
       "2    288.0\n",
       "3      NaN\n",
       "4    460.0\n",
       "5    550.0\n",
       "6    343.0\n",
       "dtype: float64"
      ]
     },
     "execution_count": 160,
     "metadata": {},
     "output_type": "execute_result"
    }
   ],
   "source": [
    "sc3"
   ]
  },
  {
   "cell_type": "markdown",
   "metadata": {},
   "source": [
    "2. What will be the mean, median, standard deviation, minimum, maximum for c1 and c3?"
   ]
  },
  {
   "cell_type": "code",
   "execution_count": 161,
   "metadata": {},
   "outputs": [
    {
     "data": {
      "text/plain": [
       "count     7.000000\n",
       "mean     30.142857\n",
       "std      11.006492\n",
       "min      20.000000\n",
       "25%      22.500000\n",
       "50%      26.000000\n",
       "75%      34.500000\n",
       "max      51.000000\n",
       "dtype: float64"
      ]
     },
     "execution_count": 161,
     "metadata": {},
     "output_type": "execute_result"
    }
   ],
   "source": [
    "sc1.describe()"
   ]
  },
  {
   "cell_type": "code",
   "execution_count": 162,
   "metadata": {},
   "outputs": [
    {
     "name": "stdout",
     "output_type": "stream",
     "text": [
      "mean= 391.8333333333333 median= 371.5 sd= 99.59200101748468 min= 288.0 max= 550.0\n"
     ]
    }
   ],
   "source": [
    "print(\"mean=\",sc3.mean(),\"median=\",sc3.median(),\"sd=\",sc3.std(),\"min=\",sc3.min(),\"max=\",sc3.max(), )"
   ]
  },
  {
   "cell_type": "markdown",
   "metadata": {},
   "source": [
    "3. Create a DataFrame from the following Series data and make c4 the index variable"
   ]
  },
  {
   "cell_type": "code",
   "execution_count": 164,
   "metadata": {},
   "outputs": [
    {
     "name": "stdout",
     "output_type": "stream",
     "text": [
      "        temperature gender  hourly_rate\n",
      "name                                   \n",
      "Simon            32      M        400.0\n",
      "Robert           26      M        310.0\n",
      "Lily             37      F        288.0\n",
      "David            20                 NaN\n",
      "Susan            24      F        460.0\n",
      "Zuma             51      M        550.0\n",
      "Joyce            21      F        343.0\n"
     ]
    }
   ],
   "source": [
    "frame = { 'temperature': sc1, 'gender': sc2,\n",
    "        'hourly_rate': sc3, 'name': sc4,} \n",
    "  \n",
    "df1 = pd.DataFrame(frame) \n",
    "df1 = df1.set_index('name')\n",
    "print(df1) "
   ]
  },
  {
   "cell_type": "markdown",
   "metadata": {},
   "source": [
    "4. Plot the two graphs (box-plot and histogram) for the variables c1 and c3."
   ]
  },
  {
   "cell_type": "code",
   "execution_count": 165,
   "metadata": {},
   "outputs": [
    {
     "data": {
      "text/plain": [
       "<matplotlib.axes._subplots.AxesSubplot at 0x24484b260b8>"
      ]
     },
     "execution_count": 165,
     "metadata": {},
     "output_type": "execute_result"
    },
    {
     "data": {
      "image/png": "[encoded data removed]",
      "text/plain": [
       "<Figure size 432x288 with 1 Axes>"
      ]
     },
     "metadata": {
      "needs_background": "light"
     },
     "output_type": "display_data"
    }
   ],
   "source": [
    "## pandas approach \n",
    "df1.boxplot(column=['temperature','hourly_rate'])"
   ]
  },
  {
   "cell_type": "code",
   "execution_count": 166,
   "metadata": {},
   "outputs": [
    {
     "data": {
      "image/png": "[encoded data removed]",
      "text/plain": [
       "<Figure size 432x288 with 1 Axes>"
      ]
     },
     "metadata": {
      "needs_background": "light"
     },
     "output_type": "display_data"
    }
   ],
   "source": [
    "#using matplotlib \n",
    "import matplotlib.pyplot as plt\n",
    "plt.boxplot(x = [temperature] , data=df1)\n",
    "plt.show()"
   ]
  },
  {
   "cell_type": "code",
   "execution_count": 168,
   "metadata": {},
   "outputs": [
    {
     "data": {
      "text/plain": [
       "array([[<matplotlib.axes._subplots.AxesSubplot object at 0x0000024484B1CCF8>]],\n",
       "      dtype=object)"
      ]
     },
     "execution_count": 168,
     "metadata": {},
     "output_type": "execute_result"
    },
    {
     "data": {
      "image/png": "[encoded data removed]",
      "text/plain": [
       "<Figure size 432x288 with 1 Axes>"
      ]
     },
     "metadata": {
      "needs_background": "light"
     },
     "output_type": "display_data"
    }
   ],
   "source": [
    "df1.hist(column=['temperature'])"
   ]
  },
  {
   "cell_type": "code",
   "execution_count": 169,
   "metadata": {},
   "outputs": [
    {
     "name": "stderr",
     "output_type": "stream",
     "text": [
      "C:\\ProgramData\\Anaconda3\\lib\\site-packages\\numpy\\lib\\histograms.py:824: RuntimeWarning: invalid value encountered in greater_equal\n",
      "  keep = (tmp_a >= first_edge)\n",
      "C:\\ProgramData\\Anaconda3\\lib\\site-packages\\numpy\\lib\\histograms.py:825: RuntimeWarning: invalid value encountered in less_equal\n",
      "  keep &= (tmp_a <= last_edge)\n"
     ]
    },
    {
     "data": {
      "image/png": "[encoded data removed]",
      "text/plain": [
       "<Figure size 432x288 with 1 Axes>"
      ]
     },
     "metadata": {
      "needs_background": "light"
     },
     "output_type": "display_data"
    }
   ],
   "source": [
    "#df1.hist(column=['hourly_rate'])\n",
    "plt.hist('hourly_rate',data=df1)\n",
    "plt.show()"
   ]
  },
  {
   "cell_type": "markdown",
   "metadata": {},
   "source": [
    "5. Fill in the blank hourly rate with for David with the average rate for the other six persons and update youdatabase"
   ]
  },
  {
   "cell_type": "code",
   "execution_count": 170,
   "metadata": {},
   "outputs": [],
   "source": [
    "df1 = df1.fillna(value={'hourly_rate':  391.83})"
   ]
  },
  {
   "cell_type": "markdown",
   "metadata": {},
   "source": [
    "6. Using the update dataframe draw the scatterplot of c1 and c3 using the techniques shown above"
   ]
  },
  {
   "cell_type": "code",
   "execution_count": 171,
   "metadata": {},
   "outputs": [
    {
     "data": {
      "image/png": "[encoded data removed]",
      "text/plain": [
       "<Figure size 432x288 with 1 Axes>"
      ]
     },
     "metadata": {
      "needs_background": "light"
     },
     "output_type": "display_data"
    }
   ],
   "source": [
    "#df1.plot.scatter('temperature','hourly_rate')\n",
    "plt.scatter('temperature', 'hourly_rate', data=df1)\n",
    "plt.xlabel('Temperature')\n",
    "plt.ylabel('Hourly rate')\n",
    "plt.show()"
   ]
  },
  {
   "cell_type": "markdown",
   "metadata": {},
   "source": [
    "7.Use the weblink (https://www.w3resource.com/pandas/dataframe/dataframe-plot-barh.php)\n",
    "toinvestigate how you can draw a bar graph and also similarly a pie chart and draw these two graphs forthe varaible c2 (gender) after filling in the missing gender for David."
   ]
  },
  {
   "cell_type": "code",
   "execution_count": 172,
   "metadata": {},
   "outputs": [
    {
     "data": {
      "text/html": [
       "<div>\n",
       "<style scoped>\n",
       "    .dataframe tbody tr th:only-of-type {\n",
       "        vertical-align: middle;\n",
       "    }\n",
       "\n",
       "    .dataframe tbody tr th {\n",
       "        vertical-align: top;\n",
       "    }\n",
       "\n",
       "    .dataframe thead th {\n",
       "        text-align: right;\n",
       "    }\n",
       "</style>\n",
       "<table border=\"1\" class=\"dataframe\">\n",
       "  <thead>\n",
       "    <tr style=\"text-align: right;\">\n",
       "      <th></th>\n",
       "      <th>temperature</th>\n",
       "      <th>gender</th>\n",
       "      <th>hourly_rate</th>\n",
       "    </tr>\n",
       "    <tr>\n",
       "      <th>name</th>\n",
       "      <th></th>\n",
       "      <th></th>\n",
       "      <th></th>\n",
       "    </tr>\n",
       "  </thead>\n",
       "  <tbody>\n",
       "    <tr>\n",
       "      <th>Simon</th>\n",
       "      <td>32</td>\n",
       "      <td>M</td>\n",
       "      <td>400.00</td>\n",
       "    </tr>\n",
       "    <tr>\n",
       "      <th>Robert</th>\n",
       "      <td>26</td>\n",
       "      <td>M</td>\n",
       "      <td>310.00</td>\n",
       "    </tr>\n",
       "    <tr>\n",
       "      <th>Lily</th>\n",
       "      <td>37</td>\n",
       "      <td>F</td>\n",
       "      <td>288.00</td>\n",
       "    </tr>\n",
       "    <tr>\n",
       "      <th>David</th>\n",
       "      <td>20</td>\n",
       "      <td>M</td>\n",
       "      <td>391.83</td>\n",
       "    </tr>\n",
       "    <tr>\n",
       "      <th>Susan</th>\n",
       "      <td>24</td>\n",
       "      <td>F</td>\n",
       "      <td>460.00</td>\n",
       "    </tr>\n",
       "    <tr>\n",
       "      <th>Zuma</th>\n",
       "      <td>51</td>\n",
       "      <td>M</td>\n",
       "      <td>550.00</td>\n",
       "    </tr>\n",
       "    <tr>\n",
       "      <th>Joyce</th>\n",
       "      <td>21</td>\n",
       "      <td>F</td>\n",
       "      <td>343.00</td>\n",
       "    </tr>\n",
       "  </tbody>\n",
       "</table>\n",
       "</div>"
      ],
      "text/plain": [
       "        temperature gender  hourly_rate\n",
       "name                                   \n",
       "Simon            32      M       400.00\n",
       "Robert           26      M       310.00\n",
       "Lily             37      F       288.00\n",
       "David            20      M       391.83\n",
       "Susan            24      F       460.00\n",
       "Zuma             51      M       550.00\n",
       "Joyce            21      F       343.00"
      ]
     },
     "execution_count": 172,
     "metadata": {},
     "output_type": "execute_result"
    }
   ],
   "source": [
    "## fill in David Gender\n",
    "df1 = df1.replace('', 'M')\n",
    "df1"
   ]
  },
  {
   "cell_type": "code",
   "execution_count": 173,
   "metadata": {},
   "outputs": [
    {
     "data": {
      "image/png": "[encoded data removed]",
      "text/plain": [
       "<Figure size 432x288 with 1 Axes>"
      ]
     },
     "metadata": {
      "needs_background": "light"
     },
     "output_type": "display_data"
    }
   ],
   "source": [
    "#df1.plot.barh('gender')\n",
    "plt.bar(x=gender,height=temperature ,data=df1)\n",
    "# Show Plot \n",
    "plt.show() "
   ]
  },
  {
   "cell_type": "code",
   "execution_count": 174,
   "metadata": {},
   "outputs": [
    {
     "data": {
      "image/png": "[encoded data removed]",
      "text/plain": [
       "<Figure size 432x288 with 1 Axes>"
      ]
     },
     "metadata": {},
     "output_type": "display_data"
    }
   ],
   "source": [
    "plt.pie(temperature,labels=name,data=df1,autopct='%1.1f%%')\n",
    "plt.show()"
   ]
  },
  {
   "cell_type": "markdown",
   "metadata": {},
   "source": [
    "8. Draw a line plot of c1 and c3 using the package matplotlib below are some hints to use for that process.Label the axis with the correct names as given above."
   ]
  },
  {
   "cell_type": "code",
   "execution_count": 175,
   "metadata": {},
   "outputs": [
    {
     "data": {
      "image/png": "[encoded data removed]",
      "text/plain": [
       "<Figure size 432x288 with 1 Axes>"
      ]
     },
     "metadata": {
      "needs_background": "light"
     },
     "output_type": "display_data"
    }
   ],
   "source": [
    "plt.plot('temperature','hourly_rate', data=df1)\n",
    "plt.xlabel('entry a')\n",
    "plt.ylabel('entry b')\n",
    "plt.show()"
   ]
  }
 ],
 "metadata": {
  "kernelspec": {
   "display_name": "Python 3",
   "language": "python",
   "name": "python3"
  },
  "language_info": {
   "codemirror_mode": {
    "name": "ipython",
    "version": 3
   },
   "file_extension": ".py",
   "mimetype": "text/x-python",
   "name": "python",
   "nbconvert_exporter": "python",
   "pygments_lexer": "ipython3",
   "version": "3.7.3"
  }
 },
 "nbformat": 4,
 "nbformat_minor": 2
}
